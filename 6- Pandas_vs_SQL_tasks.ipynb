{
 "cells": [
  {
   "cell_type": "markdown",
   "id": "07f77a34",
   "metadata": {},
   "source": [
    "# Pandas vs SQL:\n",
    "### Pandas:\n",
    "- Setup is easy\n",
    "- Complexity is less since it is just a package that requires being imported\n",
    "- Reliability and scalability are less\n",
    "- Security is compromised\t\n",
    "- Math, statistics, and procedural approaches like User Defined Functions (UDF) are handled efficiently\n",
    "- Cannot be easily integrated with other languages and applications\n",
    "- People with good technical knowledge can do data manipulation operations\n",
    "\n",
    "### SQL:\n",
    "- Setup needs tuning and optimization of the query\n",
    "- Configuration and other database configurations give more complexity and time of execution\n",
    "- Reliability and scalability are much better\n",
    "- Security is higher due to Atomicity, Consistency, Isolation, and Durability (ACID) properties\n",
    "- Math, statistics, and procedural approaches like User Defined Functions (UDF) are not performed well enough\n",
    "- Can be easily integrated to offer support with all languages\n",
    "- Very easy to read, understand since SQL is a structured language\n",
    "\n",
    "#### Benefits of using SQL and Python:\n",
    "- Be it SQL or Python, each language comes with its own set of advantages. SQL has been designed to query and extract data. One of its main strengths includes merging data from multiple tables within a database. However, you cannot use SQL exclusively for performing higher-level data manipulations and transformations like regression tests, time series, etc. Python’s specialized library, Pandas, facilitates such data analysis. Therefore, you can use SQL to fetch data and further manipulate the structured data using Python.\n",
    "- SQL commands are simpler and narrower vis-a-vis Python commands. More often than not, they form a combination of JOINS, aggregate functions, and subqueries functions.  \n",
    "\n",
    "- As for Python, the programming commands are like an assortment of a Lego set, where each piece has a specific purpose. The libraries consist of specialized bits that help you build something in that particular niche. For example, Pandas are used for data analysis, Scikit-learn for machine learning, PyPDF2 for PDF manipulation, SciPy for numerical routines, and Numpy for mathematical operations and scientific computing. \n",
    "\n",
    "- Relational database management systems used in many corporate applications call for having prior knowledge of SQL. It provides a structured route to get the desired information. Conversely, Python offers more readability and portability, assisting the development of just about anything with the right tools and libraries. \n"
   ]
  },
  {
   "cell_type": "markdown",
   "id": "ed332837",
   "metadata": {},
   "source": [
    "# how to sort dataframes by index"
   ]
  },
  {
   "cell_type": "code",
   "execution_count": 6,
   "id": "9f41b39a",
   "metadata": {
    "ExecuteTime": {
     "end_time": "2022-03-07T05:06:28.397865Z",
     "start_time": "2022-03-07T05:06:28.385875Z"
    }
   },
   "outputs": [
    {
     "data": {
      "text/html": [
       "<div>\n",
       "<style scoped>\n",
       "    .dataframe tbody tr th:only-of-type {\n",
       "        vertical-align: middle;\n",
       "    }\n",
       "\n",
       "    .dataframe tbody tr th {\n",
       "        vertical-align: top;\n",
       "    }\n",
       "\n",
       "    .dataframe thead th {\n",
       "        text-align: right;\n",
       "    }\n",
       "</style>\n",
       "<table border=\"1\" class=\"dataframe\">\n",
       "  <thead>\n",
       "    <tr style=\"text-align: right;\">\n",
       "      <th></th>\n",
       "      <th>A</th>\n",
       "    </tr>\n",
       "  </thead>\n",
       "  <tbody>\n",
       "    <tr>\n",
       "      <th>1</th>\n",
       "      <td>4</td>\n",
       "    </tr>\n",
       "    <tr>\n",
       "      <th>29</th>\n",
       "      <td>2</td>\n",
       "    </tr>\n",
       "    <tr>\n",
       "      <th>100</th>\n",
       "      <td>1</td>\n",
       "    </tr>\n",
       "    <tr>\n",
       "      <th>150</th>\n",
       "      <td>5</td>\n",
       "    </tr>\n",
       "    <tr>\n",
       "      <th>234</th>\n",
       "      <td>3</td>\n",
       "    </tr>\n",
       "  </tbody>\n",
       "</table>\n",
       "</div>"
      ],
      "text/plain": [
       "     A\n",
       "1    4\n",
       "29   2\n",
       "100  1\n",
       "150  5\n",
       "234  3"
      ]
     },
     "execution_count": 6,
     "metadata": {},
     "output_type": "execute_result"
    }
   ],
   "source": [
    "import pandas as pd\n",
    "df = pd.DataFrame([1, 2, 3, 4, 5], index=[100, 29, 234, 1, 150],\n",
    "columns=['A'])\n",
    "df.sort_index() # sort index command line"
   ]
  },
  {
   "cell_type": "markdown",
   "id": "6d5b8f28",
   "metadata": {},
   "source": [
    "# how to sort dataframe by specific column in pandas\n",
    "- Call pandas.DataFrame.sort_values(columns, ascending=True) with a list of column names to sort by as columns and either True or False as ascending to sort a DataFrame by column values."
   ]
  },
  {
   "cell_type": "code",
   "execution_count": 23,
   "id": "858da12b",
   "metadata": {
    "ExecuteTime": {
     "end_time": "2022-03-07T05:13:56.109790Z",
     "start_time": "2022-03-07T05:13:56.087803Z"
    }
   },
   "outputs": [
    {
     "data": {
      "text/html": [
       "<div>\n",
       "<style scoped>\n",
       "    .dataframe tbody tr th:only-of-type {\n",
       "        vertical-align: middle;\n",
       "    }\n",
       "\n",
       "    .dataframe tbody tr th {\n",
       "        vertical-align: top;\n",
       "    }\n",
       "\n",
       "    .dataframe thead th {\n",
       "        text-align: right;\n",
       "    }\n",
       "</style>\n",
       "<table border=\"1\" class=\"dataframe\">\n",
       "  <thead>\n",
       "    <tr style=\"text-align: right;\">\n",
       "      <th></th>\n",
       "      <th>A</th>\n",
       "    </tr>\n",
       "  </thead>\n",
       "  <tbody>\n",
       "    <tr>\n",
       "      <th>100</th>\n",
       "      <td>1</td>\n",
       "    </tr>\n",
       "    <tr>\n",
       "      <th>29</th>\n",
       "      <td>2</td>\n",
       "    </tr>\n",
       "    <tr>\n",
       "      <th>234</th>\n",
       "      <td>3</td>\n",
       "    </tr>\n",
       "    <tr>\n",
       "      <th>1</th>\n",
       "      <td>4</td>\n",
       "    </tr>\n",
       "    <tr>\n",
       "      <th>150</th>\n",
       "      <td>5</td>\n",
       "    </tr>\n",
       "  </tbody>\n",
       "</table>\n",
       "</div>"
      ],
      "text/plain": [
       "     A\n",
       "100  1\n",
       "29   2\n",
       "234  3\n",
       "1    4\n",
       "150  5"
      ]
     },
     "execution_count": 23,
     "metadata": {},
     "output_type": "execute_result"
    }
   ],
   "source": [
    "A_sorted = df.sort_values([\"A\"], ascending=True)\n",
    "A_sorted"
   ]
  },
  {
   "cell_type": "markdown",
   "id": "65e18de5",
   "metadata": {},
   "source": [
    "# how to combine more than 2 dataframes at the same time pandas in one step"
   ]
  },
  {
   "cell_type": "markdown",
   "id": "6a5536a9",
   "metadata": {},
   "source": [
    "- df = pd.concat( [df1,df2,df3], ignore_index=True )\n",
    "- pd.merge(df1, df2, left_index=True, right_index=True, how='outer')\n",
    "- # compile the list of dataframes you want to merge\n",
    "- data_frames = [df1, df2, df3]\n",
    "- df_merged = reduce(lambda  left,right: pd.merge(left,right,on=['key_col'], how='outer'), data_frames)"
   ]
  },
  {
   "cell_type": "code",
   "execution_count": null,
   "id": "c27868e7",
   "metadata": {},
   "outputs": [],
   "source": []
  }
 ],
 "metadata": {
  "kernelspec": {
   "display_name": "Python 3",
   "language": "python",
   "name": "python3"
  },
  "language_info": {
   "codemirror_mode": {
    "name": "ipython",
    "version": 3
   },
   "file_extension": ".py",
   "mimetype": "text/x-python",
   "name": "python",
   "nbconvert_exporter": "python",
   "pygments_lexer": "ipython3",
   "version": "3.8.8"
  }
 },
 "nbformat": 4,
 "nbformat_minor": 5
}
