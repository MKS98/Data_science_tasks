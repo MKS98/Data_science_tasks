{
 "cells": [
  {
   "cell_type": "markdown",
   "id": "990b3014",
   "metadata": {},
   "source": [
    "# Central Limit Theorem (CLT)\n",
    "\n",
    "CLT is a statistical premise that, given a sufficiently large sample size from a population with a finite level of variance, the mean of all sampled variables from the same population will be approximately equal to the mean of the whole population. Furthermore, these samples approximate a normal distribution, with their variances being approximately equal to the variance of the population as the sample size gets larger, according to the law of large numbers.\n",
    "\n",
    "### key takeaways\n",
    "\n",
    "1-The central limit theorem (CLT) states that the distribution of sample means approximates a normal distribution as the sample size gets larger, regardless of the population's distribution.\n",
    "\n",
    "2- Sample sizes equal to or greater than 30 are often considered sufficient for the CLT to hold.\n",
    "\n",
    "3- A key aspect of CLT is that the average of the sample means and standard deviations will equal the population mean and standard deviation.\n",
    "\n",
    "4-A sufficiently large sample size can predict the characteristics of a population more accurately.\n",
    "\n"
   ]
  },
  {
   "cell_type": "markdown",
   "id": "fad8976c",
   "metadata": {},
   "source": [
    "# statistical vs non statistical models\n",
    "\n",
    "**Machine Learning** is an algorithm that can learn from data without relying on rules-based programming.\n",
    "\n",
    "**Statistical Modelling** is the formalization of relationships between variables in the form of mathematical equations.\n",
    "\n",
    "### Formulation\n",
    "\n",
    "In a statistical model, we basically try to estimate the function f in\n",
    "\n",
    "`Dependent Variable ( Y )  = f(Independent Variable) + error function`\n",
    "\n",
    "Machine Learning takes away the deterministic function “f” out of the equation. It simply becomes\n",
    "\n",
    "`Output(Y)  ----- >  Input (X)`\n",
    "\n",
    "(https://www.analyticsvidhya.com/blog/2015/07/difference-machine-learning-statistical-modeling/)"
   ]
  },
  {
   "cell_type": "code",
   "execution_count": null,
   "id": "46416419",
   "metadata": {},
   "outputs": [],
   "source": []
  }
 ],
 "metadata": {
  "kernelspec": {
   "display_name": "Python 3",
   "language": "python",
   "name": "python3"
  },
  "language_info": {
   "codemirror_mode": {
    "name": "ipython",
    "version": 3
   },
   "file_extension": ".py",
   "mimetype": "text/x-python",
   "name": "python",
   "nbconvert_exporter": "python",
   "pygments_lexer": "ipython3",
   "version": "3.8.8"
  }
 },
 "nbformat": 4,
 "nbformat_minor": 5
}
