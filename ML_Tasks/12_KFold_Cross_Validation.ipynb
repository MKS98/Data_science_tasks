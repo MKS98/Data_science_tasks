{
 "cells": [
  {
   "cell_type": "code",
   "execution_count": 21,
   "id": "2410e913",
   "metadata": {
    "ExecuteTime": {
     "end_time": "2022-05-24T09:12:45.686249Z",
     "start_time": "2022-05-24T09:12:45.677239Z"
    }
   },
   "outputs": [],
   "source": [
    "import pandas as pd\n",
    "from sklearn.datasets import load_iris\n",
    "from sklearn.model_selection import cross_val_score\n",
    "from sklearn.linear_model import LogisticRegression\n",
    "from sklearn.svm import SVC\n",
    "from sklearn.ensemble import RandomForestClassifier\n",
    "from sklearn.tree import DecisionTreeClassifier\n",
    "import numpy as np\n",
    "iris = load_iris()"
   ]
  },
  {
   "cell_type": "code",
   "execution_count": 22,
   "id": "cf1c1ad3",
   "metadata": {
    "ExecuteTime": {
     "end_time": "2022-05-24T09:12:46.534292Z",
     "start_time": "2022-05-24T09:12:46.525297Z"
    }
   },
   "outputs": [],
   "source": [
    "df = pd.DataFrame(iris.data)\n",
    "df['target'] = iris.target"
   ]
  },
  {
   "cell_type": "code",
   "execution_count": 23,
   "id": "13f999da",
   "metadata": {
    "ExecuteTime": {
     "end_time": "2022-05-24T09:12:47.334321Z",
     "start_time": "2022-05-24T09:12:47.324328Z"
    }
   },
   "outputs": [],
   "source": [
    "X = df.drop('target', axis='columns')\n",
    "y = df.target"
   ]
  },
  {
   "cell_type": "code",
   "execution_count": 24,
   "id": "4f5c18cd",
   "metadata": {
    "ExecuteTime": {
     "end_time": "2022-05-24T09:12:48.079762Z",
     "start_time": "2022-05-24T09:12:48.043786Z"
    }
   },
   "outputs": [
    {
     "data": {
      "text/plain": [
       "0.9533333333333333"
      ]
     },
     "execution_count": 24,
     "metadata": {},
     "output_type": "execute_result"
    }
   ],
   "source": [
    "np.average(cross_val_score(LogisticRegression(solver='liblinear',multi_class='ovr'), X, y,cv=3)) # train 3 times "
   ]
  },
  {
   "cell_type": "code",
   "execution_count": 25,
   "id": "45f122d1",
   "metadata": {
    "ExecuteTime": {
     "end_time": "2022-05-24T09:12:49.507980Z",
     "start_time": "2022-05-24T09:12:49.468188Z"
    }
   },
   "outputs": [
    {
     "data": {
      "text/plain": [
       "0.9733333333333333"
      ]
     },
     "execution_count": 25,
     "metadata": {},
     "output_type": "execute_result"
    }
   ],
   "source": [
    "np.average(cross_val_score(SVC(gamma='auto'), X, y,cv=3))"
   ]
  },
  {
   "cell_type": "code",
   "execution_count": 26,
   "id": "992bd143",
   "metadata": {
    "ExecuteTime": {
     "end_time": "2022-05-24T09:12:50.605771Z",
     "start_time": "2022-05-24T09:12:50.380843Z"
    }
   },
   "outputs": [
    {
     "data": {
      "text/plain": [
       "0.9666666666666667"
      ]
     },
     "execution_count": 26,
     "metadata": {},
     "output_type": "execute_result"
    }
   ],
   "source": [
    "np.average(cross_val_score(RandomForestClassifier(n_estimators=40),X , y,cv=3))"
   ]
  },
  {
   "cell_type": "code",
   "execution_count": 27,
   "id": "7e7ea561",
   "metadata": {
    "ExecuteTime": {
     "end_time": "2022-05-24T09:12:51.538934Z",
     "start_time": "2022-05-24T09:12:51.499878Z"
    }
   },
   "outputs": [
    {
     "data": {
      "text/plain": [
       "0.9666666666666667"
      ]
     },
     "execution_count": 27,
     "metadata": {},
     "output_type": "execute_result"
    }
   ],
   "source": [
    "np.average(cross_val_score(DecisionTreeClassifier(),X, y, cv=3))"
   ]
  },
  {
   "cell_type": "markdown",
   "id": "cb85009b",
   "metadata": {},
   "source": [
    "### best model so far is SVM score: 97.33%"
   ]
  },
  {
   "cell_type": "code",
   "execution_count": null,
   "id": "b6a2cf1e",
   "metadata": {},
   "outputs": [],
   "source": []
  }
 ],
 "metadata": {
  "kernelspec": {
   "display_name": "Python 3 (ipykernel)",
   "language": "python",
   "name": "python3"
  },
  "language_info": {
   "codemirror_mode": {
    "name": "ipython",
    "version": 3
   },
   "file_extension": ".py",
   "mimetype": "text/x-python",
   "name": "python",
   "nbconvert_exporter": "python",
   "pygments_lexer": "ipython3",
   "version": "3.9.7"
  },
  "varInspector": {
   "cols": {
    "lenName": 16,
    "lenType": 16,
    "lenVar": 40
   },
   "kernels_config": {
    "python": {
     "delete_cmd_postfix": "",
     "delete_cmd_prefix": "del ",
     "library": "var_list.py",
     "varRefreshCmd": "print(var_dic_list())"
    },
    "r": {
     "delete_cmd_postfix": ") ",
     "delete_cmd_prefix": "rm(",
     "library": "var_list.r",
     "varRefreshCmd": "cat(var_dic_list()) "
    }
   },
   "types_to_exclude": [
    "module",
    "function",
    "builtin_function_or_method",
    "instance",
    "_Feature"
   ],
   "window_display": false
  }
 },
 "nbformat": 4,
 "nbformat_minor": 5
}
